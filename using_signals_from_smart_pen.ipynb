{
  "nbformat": 4,
  "nbformat_minor": 0,
  "metadata": {
    "colab": {
      "name": "Parkinson Diagnosis using RNN.ipynb",
      "provenance": [],
      "collapsed_sections": []
    },
    "kernelspec": {
      "name": "python3",
      "display_name": "Python 3"
    },
    "accelerator": "GPU"
  },
  "cells": [
    {
      "cell_type": "code",
      "metadata": {
        "id": "tNwBPAHpInjM",
        "colab_type": "code",
        "colab": {}
      },
      "source": [
        "import pandas as pd\n",
        "import warnings\n",
        "import requests, zipfile, io, os\n",
        "import numpy as np\n",
        "from tensorflow import keras\n",
        "from sklearn.model_selection import train_test_split\n",
        "import matplotlib.pyplot as plt\n",
        "from sklearn.preprocessing import MinMaxScaler, StandardScaler\n",
        "warnings.filterwarnings('ignore')"
      ],
      "execution_count": null,
      "outputs": []
    },
    {
      "cell_type": "code",
      "metadata": {
        "id": "pWJUF6lNI6y0",
        "colab_type": "code",
        "colab": {}
      },
      "source": [
        "# download file from url, extract it and store it in the dest_folder\n",
        "def download_and_extract(url, dest_folder):\n",
        "  r = requests.get(url)\n",
        "  z = zipfile.ZipFile(io.BytesIO(r.content))\n",
        "  z.extractall(dest_folder)"
      ],
      "execution_count": null,
      "outputs": []
    },
    {
      "cell_type": "code",
      "metadata": {
        "id": "RykXHc6SejfY",
        "colab_type": "code",
        "colab": {}
      },
      "source": [
        "# define folders and urls\n",
        "healthy_path = './healthy'\n",
        "healthy_url = 'http://wwwp.fc.unesp.br/~papa/pub/datasets/Handpd/NewHealthy/Signal.zip'\n",
        "parkinson_path = './parkinson'\n",
        "parkinson_url = 'http://wwwp.fc.unesp.br/~papa/pub/datasets/Handpd/NewPatients/Signal.zip'"
      ],
      "execution_count": null,
      "outputs": []
    },
    {
      "cell_type": "code",
      "metadata": {
        "id": "hqQ9SnMIevYP",
        "colab_type": "code",
        "colab": {}
      },
      "source": [
        "download_and_extract(healthy_url, healthy_path)"
      ],
      "execution_count": null,
      "outputs": []
    },
    {
      "cell_type": "code",
      "metadata": {
        "id": "kzOqVvrnfDBA",
        "colab_type": "code",
        "colab": {}
      },
      "source": [
        "download_and_extract(parkinson_url, parkinson_path)"
      ],
      "execution_count": null,
      "outputs": []
    },
    {
      "cell_type": "code",
      "metadata": {
        "id": "pT1flR1CmJRJ",
        "colab_type": "code",
        "colab": {}
      },
      "source": [
        "# actual downloaded signals\n",
        "healthy_signals = f'{healthy_path}/Signal/'\n",
        "parkinson_signals = f'{parkinson_path}/Signal/'"
      ],
      "execution_count": null,
      "outputs": []
    },
    {
      "cell_type": "code",
      "metadata": {
        "id": "dWTY3usdozE1",
        "colab_type": "code",
        "colab": {}
      },
      "source": [
        "# define Input and labels (0 = healthy, parkinson = 1)\n",
        "X = []\n",
        "y = []\n",
        "seq = 500"
      ],
      "execution_count": null,
      "outputs": []
    },
    {
      "cell_type": "code",
      "metadata": {
        "id": "NgcbqaNkpR5d",
        "colab_type": "code",
        "colab": {}
      },
      "source": [
        "# create dataset with sequence length 500\n",
        "\n",
        "# healthy signals\n",
        "for filename in os.listdir(healthy_signals):\n",
        "  if filename.endswith('txt'):\n",
        "    df = pd.read_csv(healthy_signals + filename, sep='\\s+', header=None, comment='#')\n",
        "    count = len(df.index) // seq\n",
        "    for i in range(count):\n",
        "      X.append((df.iloc[i * seq : (i + 1) * seq]).to_numpy())\n",
        "      y.append(0)\n",
        "\n",
        "# parkinson signals\n",
        "for filename in os.listdir(parkinson_signals):\n",
        "  if filename.endswith('txt'):\n",
        "    df = pd.read_csv(parkinson_signals + filename, sep='\\s+', header=None, comment='#')\n",
        "    count = len(df.index) // seq\n",
        "    for i in range(count):\n",
        "      X.append((df.iloc[i * seq : (i + 1) * seq]).to_numpy())\n",
        "      y.append(1) \n"
      ],
      "execution_count": null,
      "outputs": []
    },
    {
      "cell_type": "code",
      "metadata": {
        "id": "_2gS5HklpRNa",
        "colab_type": "code",
        "colab": {
          "base_uri": "https://localhost:8080/",
          "height": 34
        },
        "outputId": "1683daab-5d64-48e5-c916-a05a36c16cd4"
      },
      "source": [
        "len(X)"
      ],
      "execution_count": null,
      "outputs": [
        {
          "output_type": "execute_result",
          "data": {
            "text/plain": [
              "29088"
            ]
          },
          "metadata": {
            "tags": []
          },
          "execution_count": 18
        }
      ]
    },
    {
      "cell_type": "code",
      "metadata": {
        "id": "6VOEbbDGfiW5",
        "colab_type": "code",
        "colab": {}
      },
      "source": [
        "# convert lists to np arrays\n",
        "X = np.array(X)\n",
        "y = np.array(y)"
      ],
      "execution_count": null,
      "outputs": []
    },
    {
      "cell_type": "code",
      "metadata": {
        "id": "g6svqZB0j1Dn",
        "colab_type": "code",
        "colab": {
          "base_uri": "https://localhost:8080/",
          "height": 34
        },
        "outputId": "1515cac8-3a46-4928-b942-d7dab1376fa7"
      },
      "source": [
        "X.shape"
      ],
      "execution_count": null,
      "outputs": [
        {
          "output_type": "execute_result",
          "data": {
            "text/plain": [
              "(29088, 500, 6)"
            ]
          },
          "metadata": {
            "tags": []
          },
          "execution_count": 20
        }
      ]
    },
    {
      "cell_type": "code",
      "metadata": {
        "id": "dYyJLXsCyeYO",
        "colab_type": "code",
        "colab": {
          "base_uri": "https://localhost:8080/",
          "height": 34
        },
        "outputId": "2d101f3f-01ba-40f4-a379-fa4737f1f7b2"
      },
      "source": [
        "y.shape"
      ],
      "execution_count": null,
      "outputs": [
        {
          "output_type": "execute_result",
          "data": {
            "text/plain": [
              "(29088,)"
            ]
          },
          "metadata": {
            "tags": []
          },
          "execution_count": 21
        }
      ]
    },
    {
      "cell_type": "code",
      "metadata": {
        "id": "eaa3QojdzW2L",
        "colab_type": "code",
        "colab": {}
      },
      "source": [
        "X_train, X_test, y_train, y_test = train_test_split(X, y, test_size=0.2)\n",
        "X_train, X_valid, y_train, y_valid = train_test_split(X_train, y_train, test_size=0.2)"
      ],
      "execution_count": null,
      "outputs": []
    },
    {
      "cell_type": "code",
      "metadata": {
        "id": "bzW6aYDSf1Rk",
        "colab_type": "code",
        "colab": {}
      },
      "source": [
        "scaler = StandardScaler()\n",
        "X_train = scaler.fit_transform(X_train.reshape(-1, X_train.shape[-1])).reshape(X_train.shape)\n",
        "X_valid = scaler.transform(X_valid.reshape(-1, X_valid.shape[-1])).reshape(X_valid.shape)\n",
        "X_test = scaler.transform(X_test.reshape(-1, X_test.shape[-1])).reshape(X_test.shape)"
      ],
      "execution_count": null,
      "outputs": []
    },
    {
      "cell_type": "code",
      "metadata": {
        "id": "auH_ZGiVxiAA",
        "colab_type": "code",
        "colab": {}
      },
      "source": [
        "model = keras.models.Sequential([\n",
        "keras.layers.GRU(128, return_sequences=True,  input_shape=(X_train.shape[1], 6)),\n",
        "keras.layers.GRU(128),\n",
        "keras.layers.Dense(1, activation=\"sigmoid\")\n",
        "])\n"
      ],
      "execution_count": null,
      "outputs": []
    },
    {
      "cell_type": "code",
      "metadata": {
        "id": "rOx4WYdSxwPX",
        "colab_type": "code",
        "colab": {}
      },
      "source": [
        "model.compile(loss=\"binary_crossentropy\", optimizer=\"adam\", metrics=[\"accuracy\"])\n"
      ],
      "execution_count": null,
      "outputs": []
    },
    {
      "cell_type": "code",
      "metadata": {
        "id": "-2DdxhciUxmd",
        "colab_type": "code",
        "colab": {}
      },
      "source": [
        "checkpoint_filepath = \"model.h5\"\n",
        "model_checkpoint_callback = keras.callbacks.ModelCheckpoint(\n",
        "    filepath=checkpoint_filepath,\n",
        "    save_weights_only=True,\n",
        "    monitor='val_accuracy',\n",
        "    mode='max',\n",
        "    save_best_only=True)"
      ],
      "execution_count": null,
      "outputs": []
    },
    {
      "cell_type": "code",
      "metadata": {
        "id": "ZA9HxMq_x0w0",
        "colab_type": "code",
        "colab": {
          "base_uri": "https://localhost:8080/",
          "height": 1000
        },
        "outputId": "abd81c46-b376-4126-f883-285dfe6a70ca"
      },
      "source": [
        "model.fit(X_train, y_train, epochs = 30, batch_size = 32, validation_data=(X_valid, y_valid), callbacks=[model_checkpoint_callback])"
      ],
      "execution_count": null,
      "outputs": [
        {
          "output_type": "stream",
          "text": [
            "Epoch 1/30\n",
            "582/582 [==============================] - 103s 176ms/step - loss: 0.6103 - accuracy: 0.6681 - val_loss: 0.5930 - val_accuracy: 0.6859\n",
            "Epoch 2/30\n",
            "582/582 [==============================] - 105s 180ms/step - loss: 0.5788 - accuracy: 0.6912 - val_loss: 0.5547 - val_accuracy: 0.7041\n",
            "Epoch 3/30\n",
            "582/582 [==============================] - 107s 184ms/step - loss: 0.5352 - accuracy: 0.7288 - val_loss: 0.5249 - val_accuracy: 0.7480\n",
            "Epoch 4/30\n",
            "582/582 [==============================] - 107s 184ms/step - loss: 0.4796 - accuracy: 0.7704 - val_loss: 0.4613 - val_accuracy: 0.7727\n",
            "Epoch 5/30\n",
            "582/582 [==============================] - 106s 182ms/step - loss: 0.4431 - accuracy: 0.7945 - val_loss: 0.4827 - val_accuracy: 0.7664\n",
            "Epoch 6/30\n",
            "582/582 [==============================] - 103s 177ms/step - loss: 0.4042 - accuracy: 0.8117 - val_loss: 0.4097 - val_accuracy: 0.8017\n",
            "Epoch 7/30\n",
            "582/582 [==============================] - 102s 176ms/step - loss: 0.3596 - accuracy: 0.8409 - val_loss: 0.3951 - val_accuracy: 0.8152\n",
            "Epoch 8/30\n",
            "582/582 [==============================] - 102s 176ms/step - loss: 0.3554 - accuracy: 0.8419 - val_loss: 0.3664 - val_accuracy: 0.8277\n",
            "Epoch 9/30\n",
            "582/582 [==============================] - 103s 176ms/step - loss: 0.3056 - accuracy: 0.8635 - val_loss: 0.3117 - val_accuracy: 0.8597\n",
            "Epoch 10/30\n",
            "582/582 [==============================] - 106s 181ms/step - loss: 0.2644 - accuracy: 0.8877 - val_loss: 0.2920 - val_accuracy: 0.8719\n",
            "Epoch 11/30\n",
            "582/582 [==============================] - 103s 178ms/step - loss: 0.2404 - accuracy: 0.8992 - val_loss: 0.2940 - val_accuracy: 0.8724\n",
            "Epoch 12/30\n",
            "582/582 [==============================] - 102s 176ms/step - loss: 0.2203 - accuracy: 0.9097 - val_loss: 0.2784 - val_accuracy: 0.8803\n",
            "Epoch 13/30\n",
            "582/582 [==============================] - 103s 177ms/step - loss: 0.2144 - accuracy: 0.9095 - val_loss: 0.2692 - val_accuracy: 0.8889\n",
            "Epoch 14/30\n",
            "582/582 [==============================] - 104s 179ms/step - loss: 0.1864 - accuracy: 0.9265 - val_loss: 0.2618 - val_accuracy: 0.8900\n",
            "Epoch 15/30\n",
            "582/582 [==============================] - 106s 182ms/step - loss: 0.1782 - accuracy: 0.9293 - val_loss: 0.2749 - val_accuracy: 0.8853\n",
            "Epoch 16/30\n",
            "582/582 [==============================] - 103s 177ms/step - loss: 0.1646 - accuracy: 0.9343 - val_loss: 0.2641 - val_accuracy: 0.8872\n",
            "Epoch 17/30\n",
            "582/582 [==============================] - 100s 172ms/step - loss: 0.1498 - accuracy: 0.9405 - val_loss: 0.2600 - val_accuracy: 0.8954\n",
            "Epoch 18/30\n",
            "582/582 [==============================] - 103s 178ms/step - loss: 0.1520 - accuracy: 0.9399 - val_loss: 0.2710 - val_accuracy: 0.8966\n",
            "Epoch 19/30\n",
            "582/582 [==============================] - 101s 174ms/step - loss: 0.1256 - accuracy: 0.9504 - val_loss: 0.2527 - val_accuracy: 0.9020\n",
            "Epoch 20/30\n",
            "582/582 [==============================] - 103s 177ms/step - loss: 0.1250 - accuracy: 0.9511 - val_loss: 0.2569 - val_accuracy: 0.8969\n",
            "Epoch 21/30\n",
            "582/582 [==============================] - 101s 173ms/step - loss: 0.1113 - accuracy: 0.9575 - val_loss: 0.2525 - val_accuracy: 0.9074\n",
            "Epoch 22/30\n",
            "582/582 [==============================] - 105s 181ms/step - loss: 0.1162 - accuracy: 0.9554 - val_loss: 0.2674 - val_accuracy: 0.8936\n",
            "Epoch 23/30\n",
            "582/582 [==============================] - 105s 180ms/step - loss: 0.1081 - accuracy: 0.9580 - val_loss: 0.2875 - val_accuracy: 0.8939\n",
            "Epoch 24/30\n",
            "582/582 [==============================] - 103s 177ms/step - loss: 0.1008 - accuracy: 0.9619 - val_loss: 0.2625 - val_accuracy: 0.8999\n",
            "Epoch 25/30\n",
            "582/582 [==============================] - 103s 178ms/step - loss: 0.0912 - accuracy: 0.9659 - val_loss: 0.2673 - val_accuracy: 0.9050\n",
            "Epoch 26/30\n",
            "582/582 [==============================] - 104s 179ms/step - loss: 0.0860 - accuracy: 0.9667 - val_loss: 0.2726 - val_accuracy: 0.9072\n",
            "Epoch 27/30\n",
            "582/582 [==============================] - 106s 182ms/step - loss: 0.0727 - accuracy: 0.9725 - val_loss: 0.2834 - val_accuracy: 0.9074\n",
            "Epoch 28/30\n",
            "582/582 [==============================] - 105s 180ms/step - loss: 0.0785 - accuracy: 0.9713 - val_loss: 0.3221 - val_accuracy: 0.8969\n",
            "Epoch 29/30\n",
            "582/582 [==============================] - 106s 182ms/step - loss: 0.0805 - accuracy: 0.9705 - val_loss: 0.2920 - val_accuracy: 0.9072\n",
            "Epoch 30/30\n",
            "582/582 [==============================] - 106s 182ms/step - loss: 0.0746 - accuracy: 0.9733 - val_loss: 0.2966 - val_accuracy: 0.9016\n"
          ],
          "name": "stdout"
        },
        {
          "output_type": "execute_result",
          "data": {
            "text/plain": [
              "<tensorflow.python.keras.callbacks.History at 0x7ff2a8dfaba8>"
            ]
          },
          "metadata": {
            "tags": []
          },
          "execution_count": 36
        }
      ]
    },
    {
      "cell_type": "code",
      "metadata": {
        "id": "4R6sAFMHs5Hn",
        "colab_type": "code",
        "colab": {
          "base_uri": "https://localhost:8080/",
          "height": 714
        },
        "outputId": "3f901db4-ce57-4117-a443-41e1584e6418"
      },
      "source": [
        "model.fit(X_train, y_train, epochs = 20, batch_size = 32, validation_data=(X_valid, y_valid), callbacks=[model_checkpoint_callback])"
      ],
      "execution_count": null,
      "outputs": [
        {
          "output_type": "stream",
          "text": [
            "Epoch 1/20\n",
            "582/582 [==============================] - 105s 180ms/step - loss: 0.0699 - accuracy: 0.9747 - val_loss: 0.2885 - val_accuracy: 0.9031\n",
            "Epoch 2/20\n",
            "582/582 [==============================] - 105s 180ms/step - loss: 0.0699 - accuracy: 0.9750 - val_loss: 0.2942 - val_accuracy: 0.9042\n",
            "Epoch 3/20\n",
            "582/582 [==============================] - 103s 178ms/step - loss: 0.0657 - accuracy: 0.9755 - val_loss: 0.2949 - val_accuracy: 0.9050\n",
            "Epoch 4/20\n",
            "582/582 [==============================] - 106s 182ms/step - loss: 0.0590 - accuracy: 0.9783 - val_loss: 0.2872 - val_accuracy: 0.9091\n",
            "Epoch 5/20\n",
            "582/582 [==============================] - 108s 185ms/step - loss: 0.0525 - accuracy: 0.9811 - val_loss: 0.3001 - val_accuracy: 0.9132\n",
            "Epoch 6/20\n",
            "582/582 [==============================] - 106s 182ms/step - loss: 0.0465 - accuracy: 0.9825 - val_loss: 0.2921 - val_accuracy: 0.9108\n",
            "Epoch 7/20\n",
            "582/582 [==============================] - 102s 175ms/step - loss: 0.0651 - accuracy: 0.9752 - val_loss: 0.2916 - val_accuracy: 0.9085\n",
            "Epoch 8/20\n",
            "582/582 [==============================] - 95s 163ms/step - loss: 0.0550 - accuracy: 0.9799 - val_loss: 0.2885 - val_accuracy: 0.9134\n",
            "Epoch 9/20\n",
            "582/582 [==============================] - 104s 180ms/step - loss: 0.0503 - accuracy: 0.9814 - val_loss: 0.2822 - val_accuracy: 0.9089\n",
            "Epoch 10/20\n",
            "582/582 [==============================] - 105s 181ms/step - loss: 0.0701 - accuracy: 0.9744 - val_loss: 0.2867 - val_accuracy: 0.9050\n",
            "Epoch 11/20\n",
            "582/582 [==============================] - 107s 183ms/step - loss: 0.0459 - accuracy: 0.9842 - val_loss: 0.2983 - val_accuracy: 0.9123\n",
            "Epoch 12/20\n",
            "582/582 [==============================] - 106s 182ms/step - loss: 0.0324 - accuracy: 0.9890 - val_loss: 0.2998 - val_accuracy: 0.9175\n",
            "Epoch 13/20\n",
            "582/582 [==============================] - 106s 182ms/step - loss: 0.0526 - accuracy: 0.9816 - val_loss: 0.2951 - val_accuracy: 0.9061\n",
            "Epoch 14/20\n",
            "582/582 [==============================] - 105s 181ms/step - loss: 0.0387 - accuracy: 0.9857 - val_loss: 0.2767 - val_accuracy: 0.9181\n",
            "Epoch 15/20\n",
            "582/582 [==============================] - 108s 185ms/step - loss: 0.0397 - accuracy: 0.9864 - val_loss: 0.3104 - val_accuracy: 0.9093\n",
            "Epoch 16/20\n",
            "582/582 [==============================] - 105s 181ms/step - loss: 0.0649 - accuracy: 0.9768 - val_loss: 0.3287 - val_accuracy: 0.8949\n",
            "Epoch 17/20\n",
            "582/582 [==============================] - 105s 180ms/step - loss: 0.0588 - accuracy: 0.9781 - val_loss: 0.2833 - val_accuracy: 0.9121\n",
            "Epoch 18/20\n",
            "582/582 [==============================] - 103s 178ms/step - loss: 0.0263 - accuracy: 0.9917 - val_loss: 0.3132 - val_accuracy: 0.9171\n",
            "Epoch 19/20\n",
            "582/582 [==============================] - 105s 180ms/step - loss: 0.0397 - accuracy: 0.9860 - val_loss: 0.3011 - val_accuracy: 0.9132\n",
            "Epoch 20/20\n",
            "582/582 [==============================] - 102s 176ms/step - loss: 0.0341 - accuracy: 0.9879 - val_loss: 0.3360 - val_accuracy: 0.9067\n"
          ],
          "name": "stdout"
        },
        {
          "output_type": "execute_result",
          "data": {
            "text/plain": [
              "<tensorflow.python.keras.callbacks.History at 0x7ff2a4c222e8>"
            ]
          },
          "metadata": {
            "tags": []
          },
          "execution_count": 37
        }
      ]
    },
    {
      "cell_type": "code",
      "metadata": {
        "id": "HNOn-xWK0-y7",
        "colab_type": "code",
        "colab": {
          "base_uri": "https://localhost:8080/",
          "height": 714
        },
        "outputId": "a828cff3-1690-4057-ce6c-ce3bd78bd697"
      },
      "source": [
        "model.fit(X_train, y_train, epochs = 20, batch_size = 32, validation_data=(X_valid, y_valid), callbacks=[model_checkpoint_callback])"
      ],
      "execution_count": null,
      "outputs": [
        {
          "output_type": "stream",
          "text": [
            "Epoch 1/20\n",
            "582/582 [==============================] - 104s 178ms/step - loss: 0.0548 - accuracy: 0.9813 - val_loss: 0.3195 - val_accuracy: 0.9055\n",
            "Epoch 2/20\n",
            "582/582 [==============================] - 104s 179ms/step - loss: 0.0368 - accuracy: 0.9869 - val_loss: 0.2883 - val_accuracy: 0.9166\n",
            "Epoch 3/20\n",
            "582/582 [==============================] - 103s 176ms/step - loss: 0.0295 - accuracy: 0.9901 - val_loss: 0.2996 - val_accuracy: 0.9141\n",
            "Epoch 4/20\n",
            "582/582 [==============================] - 103s 178ms/step - loss: 0.0482 - accuracy: 0.9830 - val_loss: 0.2958 - val_accuracy: 0.9153\n",
            "Epoch 5/20\n",
            "582/582 [==============================] - 103s 177ms/step - loss: 0.0351 - accuracy: 0.9889 - val_loss: 0.3020 - val_accuracy: 0.9160\n",
            "Epoch 6/20\n",
            "582/582 [==============================] - 104s 179ms/step - loss: 0.0256 - accuracy: 0.9910 - val_loss: 0.3180 - val_accuracy: 0.9115\n",
            "Epoch 7/20\n",
            "582/582 [==============================] - 97s 167ms/step - loss: 0.0272 - accuracy: 0.9912 - val_loss: 0.3067 - val_accuracy: 0.9168\n",
            "Epoch 8/20\n",
            "582/582 [==============================] - 103s 177ms/step - loss: 0.0479 - accuracy: 0.9840 - val_loss: 0.3275 - val_accuracy: 0.9125\n",
            "Epoch 9/20\n",
            "582/582 [==============================] - 107s 183ms/step - loss: 0.0399 - accuracy: 0.9854 - val_loss: 0.2921 - val_accuracy: 0.9147\n",
            "Epoch 10/20\n",
            "582/582 [==============================] - 103s 176ms/step - loss: 0.0417 - accuracy: 0.9849 - val_loss: 0.3357 - val_accuracy: 0.9151\n",
            "Epoch 11/20\n",
            "582/582 [==============================] - 103s 178ms/step - loss: 0.0495 - accuracy: 0.9835 - val_loss: 0.2915 - val_accuracy: 0.9205\n",
            "Epoch 12/20\n",
            "582/582 [==============================] - 105s 180ms/step - loss: 0.0171 - accuracy: 0.9953 - val_loss: 0.2944 - val_accuracy: 0.9224\n",
            "Epoch 13/20\n",
            "582/582 [==============================] - 104s 179ms/step - loss: 0.0208 - accuracy: 0.9937 - val_loss: 0.3372 - val_accuracy: 0.9160\n",
            "Epoch 14/20\n",
            "582/582 [==============================] - 107s 183ms/step - loss: 0.0480 - accuracy: 0.9829 - val_loss: 0.3214 - val_accuracy: 0.9136\n",
            "Epoch 15/20\n",
            "582/582 [==============================] - 103s 177ms/step - loss: 0.0333 - accuracy: 0.9887 - val_loss: 0.3152 - val_accuracy: 0.9149\n",
            "Epoch 16/20\n",
            "582/582 [==============================] - 108s 186ms/step - loss: 0.0172 - accuracy: 0.9950 - val_loss: 0.3258 - val_accuracy: 0.9143\n",
            "Epoch 17/20\n",
            "582/582 [==============================] - 106s 182ms/step - loss: 0.0214 - accuracy: 0.9932 - val_loss: 0.3086 - val_accuracy: 0.9211\n",
            "Epoch 18/20\n",
            "582/582 [==============================] - 107s 184ms/step - loss: 0.0539 - accuracy: 0.9826 - val_loss: 0.3186 - val_accuracy: 0.9074\n",
            "Epoch 19/20\n",
            "582/582 [==============================] - 104s 178ms/step - loss: 0.0487 - accuracy: 0.9836 - val_loss: 0.3205 - val_accuracy: 0.9158\n",
            "Epoch 20/20\n",
            "582/582 [==============================] - 99s 170ms/step - loss: 0.0173 - accuracy: 0.9950 - val_loss: 0.3349 - val_accuracy: 0.9186\n"
          ],
          "name": "stdout"
        },
        {
          "output_type": "execute_result",
          "data": {
            "text/plain": [
              "<tensorflow.python.keras.callbacks.History at 0x7ff2a4ae8a20>"
            ]
          },
          "metadata": {
            "tags": []
          },
          "execution_count": 38
        }
      ]
    },
    {
      "cell_type": "code",
      "metadata": {
        "id": "IvHKRN_N9G8Y",
        "colab_type": "code",
        "colab": {
          "base_uri": "https://localhost:8080/",
          "height": 714
        },
        "outputId": "1738c50d-4dd6-470a-9cf8-22080c8f5b33"
      },
      "source": [
        "model.fit(X_train, y_train, epochs = 20, batch_size = 32, validation_data=(X_valid, y_valid), callbacks=[model_checkpoint_callback])"
      ],
      "execution_count": null,
      "outputs": [
        {
          "output_type": "stream",
          "text": [
            "Epoch 1/20\n",
            "582/582 [==============================] - 105s 180ms/step - loss: 0.0293 - accuracy: 0.9894 - val_loss: 0.3594 - val_accuracy: 0.9044\n",
            "Epoch 2/20\n",
            "582/582 [==============================] - 105s 180ms/step - loss: 0.0310 - accuracy: 0.9894 - val_loss: 0.2881 - val_accuracy: 0.9226\n",
            "Epoch 3/20\n",
            "582/582 [==============================] - 101s 173ms/step - loss: 0.0314 - accuracy: 0.9899 - val_loss: 0.3118 - val_accuracy: 0.9160\n",
            "Epoch 4/20\n",
            "582/582 [==============================] - 103s 177ms/step - loss: 0.0252 - accuracy: 0.9915 - val_loss: 0.3282 - val_accuracy: 0.9175\n",
            "Epoch 5/20\n",
            "582/582 [==============================] - 106s 182ms/step - loss: 0.0186 - accuracy: 0.9940 - val_loss: 0.3526 - val_accuracy: 0.9186\n",
            "Epoch 6/20\n",
            "582/582 [==============================] - 109s 187ms/step - loss: 0.0392 - accuracy: 0.9875 - val_loss: 0.3608 - val_accuracy: 0.9074\n",
            "Epoch 7/20\n",
            "582/582 [==============================] - 106s 182ms/step - loss: 0.0299 - accuracy: 0.9901 - val_loss: 0.3192 - val_accuracy: 0.9188\n",
            "Epoch 8/20\n",
            "582/582 [==============================] - 107s 184ms/step - loss: 0.0246 - accuracy: 0.9914 - val_loss: 0.3413 - val_accuracy: 0.9145\n",
            "Epoch 9/20\n",
            "582/582 [==============================] - 109s 187ms/step - loss: 0.0376 - accuracy: 0.9864 - val_loss: 0.3219 - val_accuracy: 0.9119\n",
            "Epoch 10/20\n",
            "582/582 [==============================] - 107s 183ms/step - loss: 0.0275 - accuracy: 0.9911 - val_loss: 0.3884 - val_accuracy: 0.9020\n",
            "Epoch 11/20\n",
            "582/582 [==============================] - 108s 185ms/step - loss: 0.0259 - accuracy: 0.9910 - val_loss: 0.3328 - val_accuracy: 0.9168\n",
            "Epoch 12/20\n",
            "582/582 [==============================] - 105s 181ms/step - loss: 0.0237 - accuracy: 0.9924 - val_loss: 0.3140 - val_accuracy: 0.9186\n",
            "Epoch 13/20\n",
            "582/582 [==============================] - 107s 184ms/step - loss: 0.0339 - accuracy: 0.9882 - val_loss: 0.3307 - val_accuracy: 0.9115\n",
            "Epoch 14/20\n",
            "582/582 [==============================] - 108s 186ms/step - loss: 0.0218 - accuracy: 0.9930 - val_loss: 0.3265 - val_accuracy: 0.9117\n",
            "Epoch 15/20\n",
            "582/582 [==============================] - 109s 187ms/step - loss: 0.0286 - accuracy: 0.9906 - val_loss: 0.3643 - val_accuracy: 0.9136\n",
            "Epoch 16/20\n",
            "582/582 [==============================] - 108s 186ms/step - loss: 0.0312 - accuracy: 0.9900 - val_loss: 0.3629 - val_accuracy: 0.9143\n",
            "Epoch 17/20\n",
            "582/582 [==============================] - 108s 186ms/step - loss: 0.0447 - accuracy: 0.9842 - val_loss: 0.3460 - val_accuracy: 0.9110\n",
            "Epoch 18/20\n",
            "582/582 [==============================] - 108s 186ms/step - loss: 0.0232 - accuracy: 0.9922 - val_loss: 0.3245 - val_accuracy: 0.9205\n",
            "Epoch 19/20\n",
            "582/582 [==============================] - 108s 185ms/step - loss: 0.0237 - accuracy: 0.9928 - val_loss: 0.3379 - val_accuracy: 0.9162\n",
            "Epoch 20/20\n",
            "582/582 [==============================] - 109s 186ms/step - loss: 0.0156 - accuracy: 0.9949 - val_loss: 0.3314 - val_accuracy: 0.9205\n"
          ],
          "name": "stdout"
        },
        {
          "output_type": "execute_result",
          "data": {
            "text/plain": [
              "<tensorflow.python.keras.callbacks.History at 0x7ff2a4af9668>"
            ]
          },
          "metadata": {
            "tags": []
          },
          "execution_count": 39
        }
      ]
    },
    {
      "cell_type": "code",
      "metadata": {
        "id": "qfNYR19WY2-i",
        "colab_type": "code",
        "colab": {}
      },
      "source": [
        "model.load_weights(checkpoint_filepath)"
      ],
      "execution_count": null,
      "outputs": []
    },
    {
      "cell_type": "code",
      "metadata": {
        "id": "r4H2gNVhPsrV",
        "colab_type": "code",
        "colab": {
          "base_uri": "https://localhost:8080/",
          "height": 51
        },
        "outputId": "00081b13-bf99-49e6-9461-c62e156adfbc"
      },
      "source": [
        "model.evaluate(X_valid, y_valid)\n"
      ],
      "execution_count": null,
      "outputs": [
        {
          "output_type": "stream",
          "text": [
            "146/146 [==============================] - 11s 73ms/step - loss: 0.2881 - accuracy: 0.9226\n"
          ],
          "name": "stdout"
        },
        {
          "output_type": "execute_result",
          "data": {
            "text/plain": [
              "[0.2881031036376953, 0.9226471781730652]"
            ]
          },
          "metadata": {
            "tags": []
          },
          "execution_count": 41
        }
      ]
    },
    {
      "cell_type": "code",
      "metadata": {
        "id": "b41iJkqrVyjj",
        "colab_type": "code",
        "colab": {
          "base_uri": "https://localhost:8080/",
          "height": 51
        },
        "outputId": "df5ada64-7b6b-4749-b8c7-776b1b6b27fd"
      },
      "source": [
        "model.evaluate(X_test, y_test)"
      ],
      "execution_count": null,
      "outputs": [
        {
          "output_type": "stream",
          "text": [
            "182/182 [==============================] - 13s 73ms/step - loss: 0.3231 - accuracy: 0.9225\n"
          ],
          "name": "stdout"
        },
        {
          "output_type": "execute_result",
          "data": {
            "text/plain": [
              "[0.32306811213493347, 0.9224819540977478]"
            ]
          },
          "metadata": {
            "tags": []
          },
          "execution_count": 42
        }
      ]
    },
    {
      "cell_type": "code",
      "metadata": {
        "id": "rSlAU9l8dWKv",
        "colab_type": "code",
        "colab": {
          "base_uri": "https://localhost:8080/",
          "height": 34
        },
        "outputId": "b8017acd-d598-4b2d-9f69-1f95df5f4216"
      },
      "source": [
        "!ls"
      ],
      "execution_count": null,
      "outputs": [
        {
          "output_type": "stream",
          "text": [
            "healthy  model.h5  parkinson  sample_data\n"
          ],
          "name": "stdout"
        }
      ]
    },
    {
      "cell_type": "code",
      "metadata": {
        "id": "jgkrme0hID2D",
        "colab_type": "code",
        "colab": {
          "base_uri": "https://localhost:8080/",
          "height": 17
        },
        "outputId": "509cd341-764b-4e31-8fcd-3109e6321006"
      },
      "source": [
        "from google.colab import files\n",
        "files.download('model.h5') "
      ],
      "execution_count": null,
      "outputs": [
        {
          "output_type": "display_data",
          "data": {
            "application/javascript": [
              "\n",
              "    async function download(id, filename, size) {\n",
              "      if (!google.colab.kernel.accessAllowed) {\n",
              "        return;\n",
              "      }\n",
              "      const div = document.createElement('div');\n",
              "      const label = document.createElement('label');\n",
              "      label.textContent = `Downloading \"${filename}\": `;\n",
              "      div.appendChild(label);\n",
              "      const progress = document.createElement('progress');\n",
              "      progress.max = size;\n",
              "      div.appendChild(progress);\n",
              "      document.body.appendChild(div);\n",
              "\n",
              "      const buffers = [];\n",
              "      let downloaded = 0;\n",
              "\n",
              "      const channel = await google.colab.kernel.comms.open(id);\n",
              "      // Send a message to notify the kernel that we're ready.\n",
              "      channel.send({})\n",
              "\n",
              "      for await (const message of channel.messages) {\n",
              "        // Send a message to notify the kernel that we're ready.\n",
              "        channel.send({})\n",
              "        if (message.buffers) {\n",
              "          for (const buffer of message.buffers) {\n",
              "            buffers.push(buffer);\n",
              "            downloaded += buffer.byteLength;\n",
              "            progress.value = downloaded;\n",
              "          }\n",
              "        }\n",
              "      }\n",
              "      const blob = new Blob(buffers, {type: 'application/binary'});\n",
              "      const a = document.createElement('a');\n",
              "      a.href = window.URL.createObjectURL(blob);\n",
              "      a.download = filename;\n",
              "      div.appendChild(a);\n",
              "      a.click();\n",
              "      div.remove();\n",
              "    }\n",
              "  "
            ],
            "text/plain": [
              "<IPython.core.display.Javascript object>"
            ]
          },
          "metadata": {
            "tags": []
          }
        },
        {
          "output_type": "display_data",
          "data": {
            "application/javascript": [
              "download(\"download_503e315b-2e9f-4c99-87cb-3b4f4d515f34\", \"model.h5\", 625416)"
            ],
            "text/plain": [
              "<IPython.core.display.Javascript object>"
            ]
          },
          "metadata": {
            "tags": []
          }
        }
      ]
    },
    {
      "cell_type": "code",
      "metadata": {
        "id": "evO12dbu9E2p",
        "colab_type": "code",
        "colab": {
          "base_uri": "https://localhost:8080/",
          "height": 34
        },
        "outputId": "2c008d7b-439b-43e1-a6e5-87cba1f03b7e"
      },
      "source": [
        "y_test.shape"
      ],
      "execution_count": null,
      "outputs": [
        {
          "output_type": "execute_result",
          "data": {
            "text/plain": [
              "(5818,)"
            ]
          },
          "metadata": {
            "tags": []
          },
          "execution_count": 46
        }
      ]
    },
    {
      "cell_type": "code",
      "metadata": {
        "id": "9dkNqafUHgF9",
        "colab_type": "code",
        "colab": {
          "base_uri": "https://localhost:8080/",
          "height": 34
        },
        "outputId": "489d4c19-9ca8-4790-e670-cf12b36c5012"
      },
      "source": [
        "y_train[:10]"
      ],
      "execution_count": null,
      "outputs": [
        {
          "output_type": "execute_result",
          "data": {
            "text/plain": [
              "array([0, 1, 0, 0, 0, 0, 0, 0, 1, 0])"
            ]
          },
          "metadata": {
            "tags": []
          },
          "execution_count": 49
        }
      ]
    }
  ]
}